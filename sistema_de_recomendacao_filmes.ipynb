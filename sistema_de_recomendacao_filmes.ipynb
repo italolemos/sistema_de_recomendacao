{
 "cells": [
  {
   "cell_type": "code",
   "execution_count": 9,
   "metadata": {
    "collapsed": true
   },
   "outputs": [],
   "source": [
    "import pandas as pd\n",
    "import numpy as np"
   ]
  },
  {
   "cell_type": "code",
   "execution_count": 155,
   "metadata": {
    "collapsed": true
   },
   "outputs": [],
   "source": [
    "# Avaliacoes\n",
    "cols_ratings = ['userID', 'movieID', 'rating']\n",
    "ratings = pd.read_csv('movies/user_ratedmovies.dat', sep='\\t', error_bad_lines=False, usecols=cols_ratings)\n",
    "\n",
    "# Filmes\n",
    "cols_movies = ['movie_id', 'movie_title']\n",
    "movies = pd.read_csv('movies/movies.dat', sep='\\t', error_bad_lines=False, encoding='latin-1')\n",
    "movies = movies.iloc[:,:2]\n",
    "movies.columns = ['movieID', 'title']"
   ]
  },
  {
   "cell_type": "code",
   "execution_count": 156,
   "metadata": {},
   "outputs": [
    {
     "data": {
      "text/html": [
       "<div>\n",
       "<style>\n",
       "    .dataframe thead tr:only-child th {\n",
       "        text-align: right;\n",
       "    }\n",
       "\n",
       "    .dataframe thead th {\n",
       "        text-align: left;\n",
       "    }\n",
       "\n",
       "    .dataframe tbody tr th {\n",
       "        vertical-align: top;\n",
       "    }\n",
       "</style>\n",
       "<table border=\"1\" class=\"dataframe\">\n",
       "  <thead>\n",
       "    <tr style=\"text-align: right;\">\n",
       "      <th></th>\n",
       "      <th>userID</th>\n",
       "      <th>movieID</th>\n",
       "      <th>rating</th>\n",
       "    </tr>\n",
       "  </thead>\n",
       "  <tbody>\n",
       "    <tr>\n",
       "      <th>0</th>\n",
       "      <td>75</td>\n",
       "      <td>3</td>\n",
       "      <td>1.0</td>\n",
       "    </tr>\n",
       "    <tr>\n",
       "      <th>1</th>\n",
       "      <td>75</td>\n",
       "      <td>32</td>\n",
       "      <td>4.5</td>\n",
       "    </tr>\n",
       "    <tr>\n",
       "      <th>2</th>\n",
       "      <td>75</td>\n",
       "      <td>110</td>\n",
       "      <td>4.0</td>\n",
       "    </tr>\n",
       "    <tr>\n",
       "      <th>3</th>\n",
       "      <td>75</td>\n",
       "      <td>160</td>\n",
       "      <td>2.0</td>\n",
       "    </tr>\n",
       "    <tr>\n",
       "      <th>4</th>\n",
       "      <td>75</td>\n",
       "      <td>163</td>\n",
       "      <td>4.0</td>\n",
       "    </tr>\n",
       "  </tbody>\n",
       "</table>\n",
       "</div>"
      ],
      "text/plain": [
       "   userID  movieID  rating\n",
       "0      75        3     1.0\n",
       "1      75       32     4.5\n",
       "2      75      110     4.0\n",
       "3      75      160     2.0\n",
       "4      75      163     4.0"
      ]
     },
     "execution_count": 156,
     "metadata": {},
     "output_type": "execute_result"
    }
   ],
   "source": [
    "ratings.head()"
   ]
  },
  {
   "cell_type": "code",
   "execution_count": 83,
   "metadata": {},
   "outputs": [
    {
     "data": {
      "text/plain": [
       "False"
      ]
     },
     "execution_count": 83,
     "metadata": {},
     "output_type": "execute_result"
    }
   ],
   "source": [
    "# ratings.at[ratings['userID'] == 75, ratings['movieID'] == 3]\n",
    "((ratings['userID'] == 75) & (ratings['movieID'] == 4)).any()"
   ]
  },
  {
   "cell_type": "code",
   "execution_count": 157,
   "metadata": {},
   "outputs": [
    {
     "data": {
      "text/html": [
       "<div>\n",
       "<style>\n",
       "    .dataframe thead tr:only-child th {\n",
       "        text-align: right;\n",
       "    }\n",
       "\n",
       "    .dataframe thead th {\n",
       "        text-align: left;\n",
       "    }\n",
       "\n",
       "    .dataframe tbody tr th {\n",
       "        vertical-align: top;\n",
       "    }\n",
       "</style>\n",
       "<table border=\"1\" class=\"dataframe\">\n",
       "  <thead>\n",
       "    <tr style=\"text-align: right;\">\n",
       "      <th></th>\n",
       "      <th>movieID</th>\n",
       "      <th>title</th>\n",
       "    </tr>\n",
       "  </thead>\n",
       "  <tbody>\n",
       "    <tr>\n",
       "      <th>0</th>\n",
       "      <td>1</td>\n",
       "      <td>Toy story</td>\n",
       "    </tr>\n",
       "    <tr>\n",
       "      <th>1</th>\n",
       "      <td>2</td>\n",
       "      <td>Jumanji</td>\n",
       "    </tr>\n",
       "    <tr>\n",
       "      <th>2</th>\n",
       "      <td>3</td>\n",
       "      <td>Grumpy Old Men</td>\n",
       "    </tr>\n",
       "    <tr>\n",
       "      <th>3</th>\n",
       "      <td>4</td>\n",
       "      <td>Waiting to Exhale</td>\n",
       "    </tr>\n",
       "    <tr>\n",
       "      <th>4</th>\n",
       "      <td>5</td>\n",
       "      <td>Father of the Bride Part II</td>\n",
       "    </tr>\n",
       "  </tbody>\n",
       "</table>\n",
       "</div>"
      ],
      "text/plain": [
       "   movieID                        title\n",
       "0        1                    Toy story\n",
       "1        2                      Jumanji\n",
       "2        3               Grumpy Old Men\n",
       "3        4            Waiting to Exhale\n",
       "4        5  Father of the Bride Part II"
      ]
     },
     "execution_count": 157,
     "metadata": {},
     "output_type": "execute_result"
    }
   ],
   "source": [
    "movies.head()"
   ]
  },
  {
   "cell_type": "code",
   "execution_count": 163,
   "metadata": {},
   "outputs": [
    {
     "data": {
      "text/html": [
       "<div>\n",
       "<style>\n",
       "    .dataframe thead tr:only-child th {\n",
       "        text-align: right;\n",
       "    }\n",
       "\n",
       "    .dataframe thead th {\n",
       "        text-align: left;\n",
       "    }\n",
       "\n",
       "    .dataframe tbody tr th {\n",
       "        vertical-align: top;\n",
       "    }\n",
       "</style>\n",
       "<table border=\"1\" class=\"dataframe\">\n",
       "  <thead>\n",
       "    <tr style=\"text-align: right;\">\n",
       "      <th></th>\n",
       "      <th>userID</th>\n",
       "      <th>title</th>\n",
       "      <th>movieID</th>\n",
       "      <th>rating</th>\n",
       "    </tr>\n",
       "  </thead>\n",
       "  <tbody>\n",
       "    <tr>\n",
       "      <th>0</th>\n",
       "      <td>75</td>\n",
       "      <td>Grumpy Old Men</td>\n",
       "      <td>3</td>\n",
       "      <td>1.0</td>\n",
       "    </tr>\n",
       "    <tr>\n",
       "      <th>1</th>\n",
       "      <td>783</td>\n",
       "      <td>Grumpy Old Men</td>\n",
       "      <td>3</td>\n",
       "      <td>2.0</td>\n",
       "    </tr>\n",
       "    <tr>\n",
       "      <th>2</th>\n",
       "      <td>788</td>\n",
       "      <td>Grumpy Old Men</td>\n",
       "      <td>3</td>\n",
       "      <td>3.5</td>\n",
       "    </tr>\n",
       "    <tr>\n",
       "      <th>3</th>\n",
       "      <td>1160</td>\n",
       "      <td>Grumpy Old Men</td>\n",
       "      <td>3</td>\n",
       "      <td>4.0</td>\n",
       "    </tr>\n",
       "    <tr>\n",
       "      <th>4</th>\n",
       "      <td>1174</td>\n",
       "      <td>Grumpy Old Men</td>\n",
       "      <td>3</td>\n",
       "      <td>2.5</td>\n",
       "    </tr>\n",
       "  </tbody>\n",
       "</table>\n",
       "</div>"
      ],
      "text/plain": [
       "   userID           title  movieID  rating\n",
       "0      75  Grumpy Old Men        3     1.0\n",
       "1     783  Grumpy Old Men        3     2.0\n",
       "2     788  Grumpy Old Men        3     3.5\n",
       "3    1160  Grumpy Old Men        3     4.0\n",
       "4    1174  Grumpy Old Men        3     2.5"
      ]
     },
     "execution_count": 163,
     "metadata": {},
     "output_type": "execute_result"
    }
   ],
   "source": [
    "combine_movies_ratings = pd.merge(ratings, movies, on='movieID')[['userID', 'title', 'movieID','rating']]\n",
    "combine_movies_ratings.head()\n",
    "#group = pd.DataFrame(ratings.groupby('userID')['movieID'].count())\n",
    "# group.head()"
   ]
  },
  {
   "cell_type": "code",
   "execution_count": 85,
   "metadata": {
    "collapsed": true
   },
   "outputs": [],
   "source": [
    "from scipy.sparse import csr_matrix"
   ]
  },
  {
   "cell_type": "code",
   "execution_count": 212,
   "metadata": {
    "collapsed": true
   },
   "outputs": [],
   "source": [
    "ratings_matriz = combine_movies_ratings.pivot_table(index='userID', columns='title', values='rating').fillna(0)\n",
    "# movie_index = ratings_matriz.columns"
   ]
  },
  {
   "cell_type": "code",
   "execution_count": 283,
   "metadata": {},
   "outputs": [
    {
     "data": {
      "text/html": [
       "<div>\n",
       "<style>\n",
       "    .dataframe thead tr:only-child th {\n",
       "        text-align: right;\n",
       "    }\n",
       "\n",
       "    .dataframe thead th {\n",
       "        text-align: left;\n",
       "    }\n",
       "\n",
       "    .dataframe tbody tr th {\n",
       "        vertical-align: top;\n",
       "    }\n",
       "</style>\n",
       "<table border=\"1\" class=\"dataframe\">\n",
       "  <thead>\n",
       "    <tr style=\"text-align: right;\">\n",
       "      <th>title</th>\n",
       "      <th>'Breaker' Morant</th>\n",
       "      <th>'Crocodile' Dundee II</th>\n",
       "      <th>'I Know Where I'm Going!'</th>\n",
       "      <th>'Northwest Passage' (Book I -- Rogers' Rangers)</th>\n",
       "      <th>'Round Midnight</th>\n",
       "      <th>'Til There Was You</th>\n",
       "      <th>'night, Mother</th>\n",
       "      <th>*batteries not included</th>\n",
       "      <th>...All the Marbles</th>\n",
       "      <th>...And Justice for All.</th>\n",
       "      <th>...</th>\n",
       "      <th>Äideistä parhain</th>\n",
       "      <th>Änglagård</th>\n",
       "      <th>Æon Flux</th>\n",
       "      <th>Éloge de l'amour</th>\n",
       "      <th>Éxtasis</th>\n",
       "      <th>Être et avoir</th>\n",
       "      <th>Ôdishon</th>\n",
       "      <th>Ônibus 174</th>\n",
       "      <th>Ôritsu uchûgun Oneamisu no tsubasa</th>\n",
       "      <th>Üç maymun</th>\n",
       "    </tr>\n",
       "    <tr>\n",
       "      <th>userID</th>\n",
       "      <th></th>\n",
       "      <th></th>\n",
       "      <th></th>\n",
       "      <th></th>\n",
       "      <th></th>\n",
       "      <th></th>\n",
       "      <th></th>\n",
       "      <th></th>\n",
       "      <th></th>\n",
       "      <th></th>\n",
       "      <th></th>\n",
       "      <th></th>\n",
       "      <th></th>\n",
       "      <th></th>\n",
       "      <th></th>\n",
       "      <th></th>\n",
       "      <th></th>\n",
       "      <th></th>\n",
       "      <th></th>\n",
       "      <th></th>\n",
       "      <th></th>\n",
       "    </tr>\n",
       "  </thead>\n",
       "  <tbody>\n",
       "    <tr>\n",
       "      <th>75</th>\n",
       "      <td>0.0</td>\n",
       "      <td>0.0</td>\n",
       "      <td>0.0</td>\n",
       "      <td>0.0</td>\n",
       "      <td>0.0</td>\n",
       "      <td>0.0</td>\n",
       "      <td>0.0</td>\n",
       "      <td>0.0</td>\n",
       "      <td>0.0</td>\n",
       "      <td>0.0</td>\n",
       "      <td>...</td>\n",
       "      <td>0.0</td>\n",
       "      <td>0.0</td>\n",
       "      <td>0.0</td>\n",
       "      <td>0.0</td>\n",
       "      <td>0.0</td>\n",
       "      <td>0.0</td>\n",
       "      <td>0.0</td>\n",
       "      <td>0.0</td>\n",
       "      <td>0.0</td>\n",
       "      <td>0.0</td>\n",
       "    </tr>\n",
       "    <tr>\n",
       "      <th>78</th>\n",
       "      <td>5.0</td>\n",
       "      <td>0.0</td>\n",
       "      <td>0.0</td>\n",
       "      <td>0.0</td>\n",
       "      <td>0.0</td>\n",
       "      <td>0.0</td>\n",
       "      <td>0.0</td>\n",
       "      <td>0.0</td>\n",
       "      <td>0.0</td>\n",
       "      <td>0.0</td>\n",
       "      <td>...</td>\n",
       "      <td>0.0</td>\n",
       "      <td>0.0</td>\n",
       "      <td>0.0</td>\n",
       "      <td>0.0</td>\n",
       "      <td>0.0</td>\n",
       "      <td>0.0</td>\n",
       "      <td>0.0</td>\n",
       "      <td>0.0</td>\n",
       "      <td>0.0</td>\n",
       "      <td>0.0</td>\n",
       "    </tr>\n",
       "    <tr>\n",
       "      <th>127</th>\n",
       "      <td>0.0</td>\n",
       "      <td>0.0</td>\n",
       "      <td>0.0</td>\n",
       "      <td>0.0</td>\n",
       "      <td>0.0</td>\n",
       "      <td>0.0</td>\n",
       "      <td>0.0</td>\n",
       "      <td>0.0</td>\n",
       "      <td>0.0</td>\n",
       "      <td>0.0</td>\n",
       "      <td>...</td>\n",
       "      <td>0.0</td>\n",
       "      <td>0.0</td>\n",
       "      <td>0.0</td>\n",
       "      <td>0.0</td>\n",
       "      <td>0.0</td>\n",
       "      <td>0.0</td>\n",
       "      <td>0.0</td>\n",
       "      <td>0.0</td>\n",
       "      <td>0.0</td>\n",
       "      <td>0.0</td>\n",
       "    </tr>\n",
       "    <tr>\n",
       "      <th>170</th>\n",
       "      <td>0.0</td>\n",
       "      <td>0.0</td>\n",
       "      <td>0.0</td>\n",
       "      <td>0.0</td>\n",
       "      <td>0.0</td>\n",
       "      <td>0.0</td>\n",
       "      <td>0.0</td>\n",
       "      <td>0.0</td>\n",
       "      <td>0.0</td>\n",
       "      <td>0.0</td>\n",
       "      <td>...</td>\n",
       "      <td>0.0</td>\n",
       "      <td>0.0</td>\n",
       "      <td>0.0</td>\n",
       "      <td>0.0</td>\n",
       "      <td>0.0</td>\n",
       "      <td>0.0</td>\n",
       "      <td>0.0</td>\n",
       "      <td>0.0</td>\n",
       "      <td>0.0</td>\n",
       "      <td>0.0</td>\n",
       "    </tr>\n",
       "    <tr>\n",
       "      <th>175</th>\n",
       "      <td>0.0</td>\n",
       "      <td>0.0</td>\n",
       "      <td>0.0</td>\n",
       "      <td>0.0</td>\n",
       "      <td>0.0</td>\n",
       "      <td>0.0</td>\n",
       "      <td>0.0</td>\n",
       "      <td>0.0</td>\n",
       "      <td>0.0</td>\n",
       "      <td>0.0</td>\n",
       "      <td>...</td>\n",
       "      <td>0.0</td>\n",
       "      <td>0.0</td>\n",
       "      <td>0.0</td>\n",
       "      <td>0.0</td>\n",
       "      <td>0.0</td>\n",
       "      <td>0.0</td>\n",
       "      <td>0.0</td>\n",
       "      <td>0.0</td>\n",
       "      <td>0.0</td>\n",
       "      <td>0.0</td>\n",
       "    </tr>\n",
       "  </tbody>\n",
       "</table>\n",
       "<p>5 rows × 9330 columns</p>\n",
       "</div>"
      ],
      "text/plain": [
       "title   'Breaker' Morant  'Crocodile' Dundee II  'I Know Where I'm Going!'  \\\n",
       "userID                                                                       \n",
       "75                   0.0                    0.0                        0.0   \n",
       "78                   5.0                    0.0                        0.0   \n",
       "127                  0.0                    0.0                        0.0   \n",
       "170                  0.0                    0.0                        0.0   \n",
       "175                  0.0                    0.0                        0.0   \n",
       "\n",
       "title   'Northwest Passage' (Book I -- Rogers' Rangers)  'Round Midnight  \\\n",
       "userID                                                                     \n",
       "75                                                  0.0              0.0   \n",
       "78                                                  0.0              0.0   \n",
       "127                                                 0.0              0.0   \n",
       "170                                                 0.0              0.0   \n",
       "175                                                 0.0              0.0   \n",
       "\n",
       "title   'Til There Was You  'night, Mother  *batteries not included  \\\n",
       "userID                                                                \n",
       "75                     0.0             0.0                      0.0   \n",
       "78                     0.0             0.0                      0.0   \n",
       "127                    0.0             0.0                      0.0   \n",
       "170                    0.0             0.0                      0.0   \n",
       "175                    0.0             0.0                      0.0   \n",
       "\n",
       "title   ...All the Marbles  ...And Justice for All.    ...      \\\n",
       "userID                                                 ...       \n",
       "75                     0.0                      0.0    ...       \n",
       "78                     0.0                      0.0    ...       \n",
       "127                    0.0                      0.0    ...       \n",
       "170                    0.0                      0.0    ...       \n",
       "175                    0.0                      0.0    ...       \n",
       "\n",
       "title   Äideistä parhain  Änglagård  Æon Flux  Éloge de l'amour  Éxtasis  \\\n",
       "userID                                                                     \n",
       "75                   0.0        0.0       0.0               0.0      0.0   \n",
       "78                   0.0        0.0       0.0               0.0      0.0   \n",
       "127                  0.0        0.0       0.0               0.0      0.0   \n",
       "170                  0.0        0.0       0.0               0.0      0.0   \n",
       "175                  0.0        0.0       0.0               0.0      0.0   \n",
       "\n",
       "title   Être et avoir  Ôdishon  Ônibus 174  \\\n",
       "userID                                       \n",
       "75                0.0      0.0         0.0   \n",
       "78                0.0      0.0         0.0   \n",
       "127               0.0      0.0         0.0   \n",
       "170               0.0      0.0         0.0   \n",
       "175               0.0      0.0         0.0   \n",
       "\n",
       "title   Ôritsu uchûgun Oneamisu no tsubasa  Üç maymun  \n",
       "userID                                                 \n",
       "75                                     0.0        0.0  \n",
       "78                                     0.0        0.0  \n",
       "127                                    0.0        0.0  \n",
       "170                                    0.0        0.0  \n",
       "175                                    0.0        0.0  \n",
       "\n",
       "[5 rows x 9330 columns]"
      ]
     },
     "execution_count": 283,
     "metadata": {},
     "output_type": "execute_result"
    }
   ],
   "source": [
    "ratings_matriz.head()"
   ]
  },
  {
   "cell_type": "code",
   "execution_count": 247,
   "metadata": {},
   "outputs": [
    {
     "data": {
      "text/plain": [
       "2113"
      ]
     },
     "execution_count": 247,
     "metadata": {},
     "output_type": "execute_result"
    }
   ],
   "source": [
    "array = ratings_matriz\n",
    "\n",
    "len(array.index)"
   ]
  },
  {
   "cell_type": "code",
   "execution_count": 239,
   "metadata": {},
   "outputs": [
    {
     "data": {
      "text/plain": [
       "(2113, 9330)"
      ]
     },
     "execution_count": 239,
     "metadata": {},
     "output_type": "execute_result"
    }
   ],
   "source": [
    "# Quantidade de usuário, filmes\n",
    "ratings_matriz.values.shape"
   ]
  },
  {
   "cell_type": "code",
   "execution_count": 276,
   "metadata": {},
   "outputs": [
    {
     "data": {
      "text/plain": [
       "<2114x9330 sparse matrix of type '<class 'numpy.float64'>'\n",
       "\twith 849040 stored elements in Compressed Sparse Row format>"
      ]
     },
     "execution_count": 276,
     "metadata": {},
     "output_type": "execute_result"
    }
   ],
   "source": [
    "ratings_space = csr_matrix(ratings_matriz.values)\n",
    "ratings_space"
   ]
  },
  {
   "cell_type": "code",
   "execution_count": 322,
   "metadata": {},
   "outputs": [
    {
     "data": {
      "text/plain": [
       "19909"
      ]
     },
     "execution_count": 322,
     "metadata": {},
     "output_type": "execute_result"
    }
   ],
   "source": [
    "from sklearn.neighbors import KNeighborsClassifier\n",
    "knn = KNeighborsClassifier()\n",
    "array.index[600]"
   ]
  },
  {
   "cell_type": "code",
   "execution_count": 323,
   "metadata": {},
   "outputs": [
    {
     "data": {
      "text/plain": [
       "array([4650])"
      ]
     },
     "execution_count": 323,
     "metadata": {},
     "output_type": "execute_result"
    }
   ],
   "source": [
    "knn.fit(array.values[0:500], array.index[0:500].astype('int'))\n",
    "pred = knn.predict(array.values[600].reshape(1, -1))\n",
    "pred"
   ]
  },
  {
   "cell_type": "code",
   "execution_count": 331,
   "metadata": {},
   "outputs": [
    {
     "data": {
      "text/plain": [
       "array([[ 0.,  0.,  0., ...,  0.,  0.,  0.]])"
      ]
     },
     "execution_count": 331,
     "metadata": {},
     "output_type": "execute_result"
    }
   ],
   "source": [
    "t = array.loc[pred]\n",
    "t.values\n",
    "(combine_movies_ratings.sort_values('rating').groupby('userID').head(5)).title"
   ]
  },
  {
   "cell_type": "code",
   "execution_count": 344,
   "metadata": {},
   "outputs": [
    {
     "data": {
      "text/plain": [
       "0                                            Grumpy Old Men\n",
       "1                                            Grumpy Old Men\n",
       "2                                            Grumpy Old Men\n",
       "3                                            Grumpy Old Men\n",
       "4                                            Grumpy Old Men\n",
       "5                                            Grumpy Old Men\n",
       "6                                            Grumpy Old Men\n",
       "7                                            Grumpy Old Men\n",
       "8                                            Grumpy Old Men\n",
       "9                                            Grumpy Old Men\n",
       "10                                           Grumpy Old Men\n",
       "11                                           Grumpy Old Men\n",
       "12                                           Grumpy Old Men\n",
       "13                                           Grumpy Old Men\n",
       "14                                           Grumpy Old Men\n",
       "15                                           Grumpy Old Men\n",
       "16                                           Grumpy Old Men\n",
       "17                                           Grumpy Old Men\n",
       "18                                           Grumpy Old Men\n",
       "19                                           Grumpy Old Men\n",
       "20                                           Grumpy Old Men\n",
       "21                                           Grumpy Old Men\n",
       "22                                           Grumpy Old Men\n",
       "23                                           Grumpy Old Men\n",
       "24                                           Grumpy Old Men\n",
       "25                                           Grumpy Old Men\n",
       "26                                           Grumpy Old Men\n",
       "27                                           Grumpy Old Men\n",
       "28                                           Grumpy Old Men\n",
       "29                                           Grumpy Old Men\n",
       "                                ...                        \n",
       "311388                   Indiana Jones and the Last Crusade\n",
       "319927                                Young Sherlock Holmes\n",
       "328077                                     28 Days Later...\n",
       "329166                          Big Trouble in Little China\n",
       "338401                                           Spider-Man\n",
       "343749                                            Daredevil\n",
       "344664                                        Evan Almighty\n",
       "346351    Pirates of the Caribbean: The Curse of the Bla...\n",
       "357926                                             I, Robot\n",
       "361646                                   Brokeback Mountain\n",
       "363641                                Underworld: Evolution\n",
       "366280                                         Spider-Man 3\n",
       "367174                                         Transformers\n",
       "367545            Harry Potter and the Order of the Phoenix\n",
       "367795                                             Stardust\n",
       "368843                                             Iron Man\n",
       "376047                                           Barbarella\n",
       "384762                                        Lost in Space\n",
       "395604                                       Nine 1/2 Weeks\n",
       "417931                                Das Leben der Anderen\n",
       "429251                                    The Addams Family\n",
       "446481                                            The Queen\n",
       "458017                                                   Go\n",
       "476904                                   Meet the Robinsons\n",
       "477654                      Aladdin and the King of Thieves\n",
       "489482                             When a Man Loves a Woman\n",
       "490222                                    The Secret Garden\n",
       "547135                               My Super Ex-Girlfriend\n",
       "573212                                            Anastasia\n",
       "609935                                  The Incredible Hulk\n",
       "Name: title, Length: 10565, dtype: object"
      ]
     },
     "execution_count": 344,
     "metadata": {},
     "output_type": "execute_result"
    }
   ],
   "source": [
    "x = (combine_movies_ratings.groupby('userID'))\n",
    "x.head()"
   ]
  },
  {
   "cell_type": "code",
   "execution_count": null,
   "metadata": {
    "collapsed": true
   },
   "outputs": [],
   "source": []
  }
 ],
 "metadata": {
  "kernelspec": {
   "display_name": "Python 3",
   "language": "python",
   "name": "python3"
  },
  "language_info": {
   "codemirror_mode": {
    "name": "ipython",
    "version": 3
   },
   "file_extension": ".py",
   "mimetype": "text/x-python",
   "name": "python",
   "nbconvert_exporter": "python",
   "pygments_lexer": "ipython3",
   "version": "3.6.3"
  }
 },
 "nbformat": 4,
 "nbformat_minor": 2
}
