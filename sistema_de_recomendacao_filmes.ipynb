{
 "cells": [
  {
   "cell_type": "code",
   "execution_count": 4,
   "metadata": {
    "collapsed": true
   },
   "outputs": [],
   "source": [
    "import pandas as pd\n",
    "import numpy as np"
   ]
  },
  {
   "cell_type": "code",
   "execution_count": 5,
   "metadata": {
    "collapsed": true
   },
   "outputs": [],
   "source": [
    "# Avaliacoes\n",
    "cols_ratings = ['userID', 'movieID', 'rating']\n",
    "ratings = pd.read_csv('movies/user_ratedmovies.dat', sep='\\t', error_bad_lines=False, usecols=cols_ratings)\n",
    "\n",
    "# Filmes\n",
    "cols_movies = ['movie_id', 'movie_title']\n",
    "movies = pd.read_csv('movies/movies.dat', sep='\\t', error_bad_lines=False, encoding='latin-1')\n",
    "movies = movies.iloc[:,:2]\n",
    "movies.columns = ['movieID', 'title']"
   ]
  },
  {
   "cell_type": "code",
   "execution_count": 6,
   "metadata": {},
   "outputs": [
    {
     "data": {
      "text/html": [
       "<div>\n",
       "<style scoped>\n",
       "    .dataframe tbody tr th:only-of-type {\n",
       "        vertical-align: middle;\n",
       "    }\n",
       "\n",
       "    .dataframe tbody tr th {\n",
       "        vertical-align: top;\n",
       "    }\n",
       "\n",
       "    .dataframe thead th {\n",
       "        text-align: right;\n",
       "    }\n",
       "</style>\n",
       "<table border=\"1\" class=\"dataframe\">\n",
       "  <thead>\n",
       "    <tr style=\"text-align: right;\">\n",
       "      <th></th>\n",
       "      <th>userID</th>\n",
       "      <th>movieID</th>\n",
       "      <th>rating</th>\n",
       "    </tr>\n",
       "  </thead>\n",
       "  <tbody>\n",
       "    <tr>\n",
       "      <th>0</th>\n",
       "      <td>75</td>\n",
       "      <td>3</td>\n",
       "      <td>1.0</td>\n",
       "    </tr>\n",
       "    <tr>\n",
       "      <th>1</th>\n",
       "      <td>75</td>\n",
       "      <td>32</td>\n",
       "      <td>4.5</td>\n",
       "    </tr>\n",
       "    <tr>\n",
       "      <th>2</th>\n",
       "      <td>75</td>\n",
       "      <td>110</td>\n",
       "      <td>4.0</td>\n",
       "    </tr>\n",
       "    <tr>\n",
       "      <th>3</th>\n",
       "      <td>75</td>\n",
       "      <td>160</td>\n",
       "      <td>2.0</td>\n",
       "    </tr>\n",
       "    <tr>\n",
       "      <th>4</th>\n",
       "      <td>75</td>\n",
       "      <td>163</td>\n",
       "      <td>4.0</td>\n",
       "    </tr>\n",
       "  </tbody>\n",
       "</table>\n",
       "</div>"
      ],
      "text/plain": [
       "   userID  movieID  rating\n",
       "0      75        3     1.0\n",
       "1      75       32     4.5\n",
       "2      75      110     4.0\n",
       "3      75      160     2.0\n",
       "4      75      163     4.0"
      ]
     },
     "execution_count": 6,
     "metadata": {},
     "output_type": "execute_result"
    }
   ],
   "source": [
    "ratings.head()"
   ]
  },
  {
   "cell_type": "code",
   "execution_count": 83,
   "metadata": {},
   "outputs": [
    {
     "data": {
      "text/plain": [
       "False"
      ]
     },
     "execution_count": 83,
     "metadata": {},
     "output_type": "execute_result"
    }
   ],
   "source": [
    "# ratings.at[ratings['userID'] == 75, ratings['movieID'] == 3]\n",
    "((ratings['userID'] == 75) & (ratings['movieID'] == 4)).any()"
   ]
  },
  {
   "cell_type": "code",
   "execution_count": 157,
   "metadata": {},
   "outputs": [
    {
     "data": {
      "text/html": [
       "<div>\n",
       "<style>\n",
       "    .dataframe thead tr:only-child th {\n",
       "        text-align: right;\n",
       "    }\n",
       "\n",
       "    .dataframe thead th {\n",
       "        text-align: left;\n",
       "    }\n",
       "\n",
       "    .dataframe tbody tr th {\n",
       "        vertical-align: top;\n",
       "    }\n",
       "</style>\n",
       "<table border=\"1\" class=\"dataframe\">\n",
       "  <thead>\n",
       "    <tr style=\"text-align: right;\">\n",
       "      <th></th>\n",
       "      <th>movieID</th>\n",
       "      <th>title</th>\n",
       "    </tr>\n",
       "  </thead>\n",
       "  <tbody>\n",
       "    <tr>\n",
       "      <th>0</th>\n",
       "      <td>1</td>\n",
       "      <td>Toy story</td>\n",
       "    </tr>\n",
       "    <tr>\n",
       "      <th>1</th>\n",
       "      <td>2</td>\n",
       "      <td>Jumanji</td>\n",
       "    </tr>\n",
       "    <tr>\n",
       "      <th>2</th>\n",
       "      <td>3</td>\n",
       "      <td>Grumpy Old Men</td>\n",
       "    </tr>\n",
       "    <tr>\n",
       "      <th>3</th>\n",
       "      <td>4</td>\n",
       "      <td>Waiting to Exhale</td>\n",
       "    </tr>\n",
       "    <tr>\n",
       "      <th>4</th>\n",
       "      <td>5</td>\n",
       "      <td>Father of the Bride Part II</td>\n",
       "    </tr>\n",
       "  </tbody>\n",
       "</table>\n",
       "</div>"
      ],
      "text/plain": [
       "   movieID                        title\n",
       "0        1                    Toy story\n",
       "1        2                      Jumanji\n",
       "2        3               Grumpy Old Men\n",
       "3        4            Waiting to Exhale\n",
       "4        5  Father of the Bride Part II"
      ]
     },
     "execution_count": 157,
     "metadata": {},
     "output_type": "execute_result"
    }
   ],
   "source": [
    "movies.head()"
   ]
  },
  {
   "cell_type": "code",
   "execution_count": 7,
   "metadata": {},
   "outputs": [
    {
     "data": {
      "text/html": [
       "<div>\n",
       "<style scoped>\n",
       "    .dataframe tbody tr th:only-of-type {\n",
       "        vertical-align: middle;\n",
       "    }\n",
       "\n",
       "    .dataframe tbody tr th {\n",
       "        vertical-align: top;\n",
       "    }\n",
       "\n",
       "    .dataframe thead th {\n",
       "        text-align: right;\n",
       "    }\n",
       "</style>\n",
       "<table border=\"1\" class=\"dataframe\">\n",
       "  <thead>\n",
       "    <tr style=\"text-align: right;\">\n",
       "      <th></th>\n",
       "      <th>userID</th>\n",
       "      <th>title</th>\n",
       "      <th>movieID</th>\n",
       "      <th>rating</th>\n",
       "    </tr>\n",
       "  </thead>\n",
       "  <tbody>\n",
       "    <tr>\n",
       "      <th>0</th>\n",
       "      <td>75</td>\n",
       "      <td>Grumpy Old Men</td>\n",
       "      <td>3</td>\n",
       "      <td>1.0</td>\n",
       "    </tr>\n",
       "    <tr>\n",
       "      <th>1</th>\n",
       "      <td>783</td>\n",
       "      <td>Grumpy Old Men</td>\n",
       "      <td>3</td>\n",
       "      <td>2.0</td>\n",
       "    </tr>\n",
       "    <tr>\n",
       "      <th>2</th>\n",
       "      <td>788</td>\n",
       "      <td>Grumpy Old Men</td>\n",
       "      <td>3</td>\n",
       "      <td>3.5</td>\n",
       "    </tr>\n",
       "    <tr>\n",
       "      <th>3</th>\n",
       "      <td>1160</td>\n",
       "      <td>Grumpy Old Men</td>\n",
       "      <td>3</td>\n",
       "      <td>4.0</td>\n",
       "    </tr>\n",
       "    <tr>\n",
       "      <th>4</th>\n",
       "      <td>1174</td>\n",
       "      <td>Grumpy Old Men</td>\n",
       "      <td>3</td>\n",
       "      <td>2.5</td>\n",
       "    </tr>\n",
       "  </tbody>\n",
       "</table>\n",
       "</div>"
      ],
      "text/plain": [
       "   userID           title  movieID  rating\n",
       "0      75  Grumpy Old Men        3     1.0\n",
       "1     783  Grumpy Old Men        3     2.0\n",
       "2     788  Grumpy Old Men        3     3.5\n",
       "3    1160  Grumpy Old Men        3     4.0\n",
       "4    1174  Grumpy Old Men        3     2.5"
      ]
     },
     "execution_count": 7,
     "metadata": {},
     "output_type": "execute_result"
    }
   ],
   "source": [
    "combine_movies_ratings = pd.merge(ratings, movies, on='movieID')[['userID', 'title', 'movieID','rating']]\n",
    "combine_movies_ratings.head()\n",
    "#group = pd.DataFrame(ratings.groupby('userID')['movieID'].count())\n",
    "# group.head()"
   ]
  },
  {
   "cell_type": "code",
   "execution_count": 15,
   "metadata": {
    "collapsed": true
   },
   "outputs": [],
   "source": [
    "ratings_matriz = combine_movies_ratings.pivot_table(index='userID', columns='title', values='rating').fillna(0)\n",
    "# movie_index = ratings_matriz.columns"
   ]
  },
  {
   "cell_type": "code",
   "execution_count": 16,
   "metadata": {},
   "outputs": [
    {
     "data": {
      "text/html": [
       "<div>\n",
       "<style scoped>\n",
       "    .dataframe tbody tr th:only-of-type {\n",
       "        vertical-align: middle;\n",
       "    }\n",
       "\n",
       "    .dataframe tbody tr th {\n",
       "        vertical-align: top;\n",
       "    }\n",
       "\n",
       "    .dataframe thead th {\n",
       "        text-align: right;\n",
       "    }\n",
       "</style>\n",
       "<table border=\"1\" class=\"dataframe\">\n",
       "  <thead>\n",
       "    <tr style=\"text-align: right;\">\n",
       "      <th>title</th>\n",
       "      <th>'Breaker' Morant</th>\n",
       "      <th>'Crocodile' Dundee II</th>\n",
       "      <th>'I Know Where I'm Going!'</th>\n",
       "      <th>'Northwest Passage' (Book I -- Rogers' Rangers)</th>\n",
       "      <th>'Round Midnight</th>\n",
       "      <th>'Til There Was You</th>\n",
       "      <th>'night, Mother</th>\n",
       "      <th>*batteries not included</th>\n",
       "      <th>...All the Marbles</th>\n",
       "      <th>...And Justice for All.</th>\n",
       "      <th>...</th>\n",
       "      <th>Äideistä parhain</th>\n",
       "      <th>Änglagård</th>\n",
       "      <th>Æon Flux</th>\n",
       "      <th>Éloge de l'amour</th>\n",
       "      <th>Éxtasis</th>\n",
       "      <th>Être et avoir</th>\n",
       "      <th>Ôdishon</th>\n",
       "      <th>Ônibus 174</th>\n",
       "      <th>Ôritsu uchûgun Oneamisu no tsubasa</th>\n",
       "      <th>Üç maymun</th>\n",
       "    </tr>\n",
       "    <tr>\n",
       "      <th>userID</th>\n",
       "      <th></th>\n",
       "      <th></th>\n",
       "      <th></th>\n",
       "      <th></th>\n",
       "      <th></th>\n",
       "      <th></th>\n",
       "      <th></th>\n",
       "      <th></th>\n",
       "      <th></th>\n",
       "      <th></th>\n",
       "      <th></th>\n",
       "      <th></th>\n",
       "      <th></th>\n",
       "      <th></th>\n",
       "      <th></th>\n",
       "      <th></th>\n",
       "      <th></th>\n",
       "      <th></th>\n",
       "      <th></th>\n",
       "      <th></th>\n",
       "      <th></th>\n",
       "    </tr>\n",
       "  </thead>\n",
       "  <tbody>\n",
       "    <tr>\n",
       "      <th>75</th>\n",
       "      <td>0.0</td>\n",
       "      <td>0.0</td>\n",
       "      <td>0.0</td>\n",
       "      <td>0.0</td>\n",
       "      <td>0.0</td>\n",
       "      <td>0.0</td>\n",
       "      <td>0.0</td>\n",
       "      <td>0.0</td>\n",
       "      <td>0.0</td>\n",
       "      <td>0.0</td>\n",
       "      <td>...</td>\n",
       "      <td>0.0</td>\n",
       "      <td>0.0</td>\n",
       "      <td>0.0</td>\n",
       "      <td>0.0</td>\n",
       "      <td>0.0</td>\n",
       "      <td>0.0</td>\n",
       "      <td>0.0</td>\n",
       "      <td>0.0</td>\n",
       "      <td>0.0</td>\n",
       "      <td>0.0</td>\n",
       "    </tr>\n",
       "    <tr>\n",
       "      <th>78</th>\n",
       "      <td>5.0</td>\n",
       "      <td>0.0</td>\n",
       "      <td>0.0</td>\n",
       "      <td>0.0</td>\n",
       "      <td>0.0</td>\n",
       "      <td>0.0</td>\n",
       "      <td>0.0</td>\n",
       "      <td>0.0</td>\n",
       "      <td>0.0</td>\n",
       "      <td>0.0</td>\n",
       "      <td>...</td>\n",
       "      <td>0.0</td>\n",
       "      <td>0.0</td>\n",
       "      <td>0.0</td>\n",
       "      <td>0.0</td>\n",
       "      <td>0.0</td>\n",
       "      <td>0.0</td>\n",
       "      <td>0.0</td>\n",
       "      <td>0.0</td>\n",
       "      <td>0.0</td>\n",
       "      <td>0.0</td>\n",
       "    </tr>\n",
       "    <tr>\n",
       "      <th>127</th>\n",
       "      <td>0.0</td>\n",
       "      <td>0.0</td>\n",
       "      <td>0.0</td>\n",
       "      <td>0.0</td>\n",
       "      <td>0.0</td>\n",
       "      <td>0.0</td>\n",
       "      <td>0.0</td>\n",
       "      <td>0.0</td>\n",
       "      <td>0.0</td>\n",
       "      <td>0.0</td>\n",
       "      <td>...</td>\n",
       "      <td>0.0</td>\n",
       "      <td>0.0</td>\n",
       "      <td>0.0</td>\n",
       "      <td>0.0</td>\n",
       "      <td>0.0</td>\n",
       "      <td>0.0</td>\n",
       "      <td>0.0</td>\n",
       "      <td>0.0</td>\n",
       "      <td>0.0</td>\n",
       "      <td>0.0</td>\n",
       "    </tr>\n",
       "    <tr>\n",
       "      <th>170</th>\n",
       "      <td>0.0</td>\n",
       "      <td>0.0</td>\n",
       "      <td>0.0</td>\n",
       "      <td>0.0</td>\n",
       "      <td>0.0</td>\n",
       "      <td>0.0</td>\n",
       "      <td>0.0</td>\n",
       "      <td>0.0</td>\n",
       "      <td>0.0</td>\n",
       "      <td>0.0</td>\n",
       "      <td>...</td>\n",
       "      <td>0.0</td>\n",
       "      <td>0.0</td>\n",
       "      <td>0.0</td>\n",
       "      <td>0.0</td>\n",
       "      <td>0.0</td>\n",
       "      <td>0.0</td>\n",
       "      <td>0.0</td>\n",
       "      <td>0.0</td>\n",
       "      <td>0.0</td>\n",
       "      <td>0.0</td>\n",
       "    </tr>\n",
       "    <tr>\n",
       "      <th>175</th>\n",
       "      <td>0.0</td>\n",
       "      <td>0.0</td>\n",
       "      <td>0.0</td>\n",
       "      <td>0.0</td>\n",
       "      <td>0.0</td>\n",
       "      <td>0.0</td>\n",
       "      <td>0.0</td>\n",
       "      <td>0.0</td>\n",
       "      <td>0.0</td>\n",
       "      <td>0.0</td>\n",
       "      <td>...</td>\n",
       "      <td>0.0</td>\n",
       "      <td>0.0</td>\n",
       "      <td>0.0</td>\n",
       "      <td>0.0</td>\n",
       "      <td>0.0</td>\n",
       "      <td>0.0</td>\n",
       "      <td>0.0</td>\n",
       "      <td>0.0</td>\n",
       "      <td>0.0</td>\n",
       "      <td>0.0</td>\n",
       "    </tr>\n",
       "  </tbody>\n",
       "</table>\n",
       "<p>5 rows × 9330 columns</p>\n",
       "</div>"
      ],
      "text/plain": [
       "title   'Breaker' Morant  'Crocodile' Dundee II  'I Know Where I'm Going!'  \\\n",
       "userID                                                                       \n",
       "75                   0.0                    0.0                        0.0   \n",
       "78                   5.0                    0.0                        0.0   \n",
       "127                  0.0                    0.0                        0.0   \n",
       "170                  0.0                    0.0                        0.0   \n",
       "175                  0.0                    0.0                        0.0   \n",
       "\n",
       "title   'Northwest Passage' (Book I -- Rogers' Rangers)  'Round Midnight  \\\n",
       "userID                                                                     \n",
       "75                                                  0.0              0.0   \n",
       "78                                                  0.0              0.0   \n",
       "127                                                 0.0              0.0   \n",
       "170                                                 0.0              0.0   \n",
       "175                                                 0.0              0.0   \n",
       "\n",
       "title   'Til There Was You  'night, Mother  *batteries not included  \\\n",
       "userID                                                                \n",
       "75                     0.0             0.0                      0.0   \n",
       "78                     0.0             0.0                      0.0   \n",
       "127                    0.0             0.0                      0.0   \n",
       "170                    0.0             0.0                      0.0   \n",
       "175                    0.0             0.0                      0.0   \n",
       "\n",
       "title   ...All the Marbles  ...And Justice for All.    ...      \\\n",
       "userID                                                 ...       \n",
       "75                     0.0                      0.0    ...       \n",
       "78                     0.0                      0.0    ...       \n",
       "127                    0.0                      0.0    ...       \n",
       "170                    0.0                      0.0    ...       \n",
       "175                    0.0                      0.0    ...       \n",
       "\n",
       "title   Äideistä parhain  Änglagård  Æon Flux  Éloge de l'amour  Éxtasis  \\\n",
       "userID                                                                     \n",
       "75                   0.0        0.0       0.0               0.0      0.0   \n",
       "78                   0.0        0.0       0.0               0.0      0.0   \n",
       "127                  0.0        0.0       0.0               0.0      0.0   \n",
       "170                  0.0        0.0       0.0               0.0      0.0   \n",
       "175                  0.0        0.0       0.0               0.0      0.0   \n",
       "\n",
       "title   Être et avoir  Ôdishon  Ônibus 174  \\\n",
       "userID                                       \n",
       "75                0.0      0.0         0.0   \n",
       "78                0.0      0.0         0.0   \n",
       "127               0.0      0.0         0.0   \n",
       "170               0.0      0.0         0.0   \n",
       "175               0.0      0.0         0.0   \n",
       "\n",
       "title   Ôritsu uchûgun Oneamisu no tsubasa  Üç maymun  \n",
       "userID                                                 \n",
       "75                                     0.0        0.0  \n",
       "78                                     0.0        0.0  \n",
       "127                                    0.0        0.0  \n",
       "170                                    0.0        0.0  \n",
       "175                                    0.0        0.0  \n",
       "\n",
       "[5 rows x 9330 columns]"
      ]
     },
     "execution_count": 16,
     "metadata": {},
     "output_type": "execute_result"
    }
   ],
   "source": [
    "ratings_matriz.head()"
   ]
  },
  {
   "cell_type": "code",
   "execution_count": 17,
   "metadata": {},
   "outputs": [
    {
     "data": {
      "text/plain": [
       "2113"
      ]
     },
     "execution_count": 17,
     "metadata": {},
     "output_type": "execute_result"
    }
   ],
   "source": [
    "array = ratings_matriz\n",
    "\n",
    "len(array.index)"
   ]
  },
  {
   "cell_type": "code",
   "execution_count": 18,
   "metadata": {},
   "outputs": [
    {
     "data": {
      "text/plain": [
       "(2113, 9330)"
      ]
     },
     "execution_count": 18,
     "metadata": {},
     "output_type": "execute_result"
    }
   ],
   "source": [
    "# Quantidade de usuário, filmes\n",
    "ratings_matriz.values.shape"
   ]
  },
  {
   "cell_type": "code",
   "execution_count": 364,
   "metadata": {},
   "outputs": [
    {
     "data": {
      "text/plain": [
       "19909"
      ]
     },
     "execution_count": 364,
     "metadata": {},
     "output_type": "execute_result"
    }
   ],
   "source": [
    "from sklearn.neighbors import KNeighborsClassifier\n",
    "knn = KNeighborsClassifier(n_neighbors=3)\n",
    "array.index[600]"
   ]
  },
  {
   "cell_type": "code",
   "execution_count": 362,
   "metadata": {},
   "outputs": [
    {
     "data": {
      "text/plain": [
       "array([3710])"
      ]
     },
     "execution_count": 362,
     "metadata": {},
     "output_type": "execute_result"
    }
   ],
   "source": [
    "knn.fit(array.values[0:500], array.index[0:500].astype('int'))\n",
    "pred = knn.predict(array.values[1900].reshape(1, -1))\n",
    "pred"
   ]
  },
  {
   "cell_type": "code",
   "execution_count": 363,
   "metadata": {},
   "outputs": [
    {
     "data": {
      "text/plain": [
       "['Interview with the Vampire: The Vampire Chronicles',\n",
       " 'The Lord of the Rings: The Two Towers',\n",
       " 'The Lord of the Rings: The Fellowship of the Ring',\n",
       " 'The Saint',\n",
       " 'Waterworld',\n",
       " 'Junior',\n",
       " 'Jurassic Park',\n",
       " 'Pulp Fiction',\n",
       " 'Forrest Gump',\n",
       " 'Pirates of the Caribbean: The Curse of the Black Pearl',\n",
       " 'Cliffhanger']"
      ]
     },
     "execution_count": 363,
     "metadata": {},
     "output_type": "execute_result"
    }
   ],
   "source": [
    "t_sorted = array.loc[pred]\n",
    "keys = t_sorted.columns\n",
    "values = t_sorted.values.tolist()\n",
    "# values\n",
    "# d = dict(enumerate(values.flatten(), ))\n",
    "# d\n",
    "result = dict(zip(keys, values[0]))\n",
    "# result\n",
    "#type(result['10,000 BC'])\n",
    "sorted_keys = sorted(result, key=result.__getitem__, reverse=True)\n",
    "sorted_keys[0:11]\n",
    "#t.values\n",
    "#(combine_movies_ratings.sort_values('rating').groupby('userID').head(5)).title"
   ]
  },
  {
   "cell_type": "markdown",
   "metadata": {},
   "source": [
    "### Decision Tree"
   ]
  },
  {
   "cell_type": "code",
   "execution_count": 365,
   "metadata": {},
   "outputs": [
    {
     "data": {
      "text/plain": [
       "DecisionTreeClassifier(class_weight=None, criterion='gini', max_depth=None,\n",
       "            max_features=None, max_leaf_nodes=None,\n",
       "            min_impurity_decrease=0.0, min_impurity_split=None,\n",
       "            min_samples_leaf=1, min_samples_split=2,\n",
       "            min_weight_fraction_leaf=0.0, presort=False, random_state=None,\n",
       "            splitter='best')"
      ]
     },
     "execution_count": 365,
     "metadata": {},
     "output_type": "execute_result"
    }
   ],
   "source": [
    "clf = tree.DecisionTreeClassifier()\n",
    "clf = clf.fit(array.values[0:500], array.index[0:500].astype('int'))\n",
    "clf"
   ]
  },
  {
   "cell_type": "code",
   "execution_count": 369,
   "metadata": {},
   "outputs": [],
   "source": [
    "final = clf.predict(array.values[1900].reshape(1, -1))"
   ]
  },
  {
   "cell_type": "code",
   "execution_count": 370,
   "metadata": {},
   "outputs": [
    {
     "data": {
      "text/plain": [
       "['Almost Famous',\n",
       " 'Back to the Future',\n",
       " 'Braveheart',\n",
       " 'Gladiator',\n",
       " 'Pirates of the Caribbean: The Curse of the Black Pearl',\n",
       " 'Star Wars: Episode I - The Phantom Menace',\n",
       " 'Superman',\n",
       " 'A Beautiful Mind',\n",
       " 'Pulp Fiction',\n",
       " 'South Park: Bigger Longer & Uncut',\n",
       " 'Beverly Hills Cop III']"
      ]
     },
     "execution_count": 370,
     "metadata": {},
     "output_type": "execute_result"
    }
   ],
   "source": [
    "t_sorted = array.loc[final]\n",
    "keys = t_sorted.columns\n",
    "values = t_sorted.values.tolist()\n",
    "# values\n",
    "# d = dict(enumerate(values.flatten(), ))\n",
    "# d\n",
    "result = dict(zip(keys, values[0]))\n",
    "# result\n",
    "#type(result['10,000 BC'])\n",
    "sorted_keys = sorted(result, key=result.__getitem__, reverse=True)\n",
    "sorted_keys[0:11]"
   ]
  },
  {
   "cell_type": "code",
   "execution_count": null,
   "metadata": {
    "collapsed": true
   },
   "outputs": [],
   "source": []
  }
 ],
 "metadata": {
  "kernelspec": {
   "display_name": "Python 3",
   "language": "python",
   "name": "python3"
  },
  "language_info": {
   "codemirror_mode": {
    "name": "ipython",
    "version": 3
   },
   "file_extension": ".py",
   "mimetype": "text/x-python",
   "name": "python",
   "nbconvert_exporter": "python",
   "pygments_lexer": "ipython3",
   "version": "3.6.3"
  }
 },
 "nbformat": 4,
 "nbformat_minor": 2
}
